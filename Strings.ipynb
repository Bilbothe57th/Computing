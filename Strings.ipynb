{
  "nbformat": 4,
  "nbformat_minor": 0,
  "metadata": {
    "colab": {
      "provenance": [],
      "toc_visible": true,
      "collapsed_sections": [
        "g14K24OQIlP7"
      ],
      "include_colab_link": true
    },
    "kernelspec": {
      "name": "python3",
      "display_name": "Python 3"
    },
    "language_info": {
      "name": "python"
    }
  },
  "cells": [
    {
      "cell_type": "markdown",
      "metadata": {
        "id": "view-in-github",
        "colab_type": "text"
      },
      "source": [
        "<a href=\"https://colab.research.google.com/github/Bilbothe57th/Computing/blob/main/Strings.ipynb\" target=\"_parent\"><img src=\"https://colab.research.google.com/assets/colab-badge.svg\" alt=\"Open In Colab\"/></a>"
      ]
    },
    {
      "cell_type": "markdown",
      "source": [
        "# Integer Exercise"
      ],
      "metadata": {
        "id": "z8tuQfSfHGV0"
      }
    },
    {
      "cell_type": "code",
      "source": [
        "#Create a program that takes two integers from the user, adds them, and prints the result.\n",
        "num1 = int(input(\"Enter first number: \"))\n",
        "num2 = int(input(\"Enter second number: \"))\n",
        "sum = num1/num2\n",
        "print(\"Your quotient is... \",sum)\n"
      ],
      "metadata": {
        "id": "xxOmhIHEDHC3",
        "colab": {
          "base_uri": "https://localhost:8080/"
        },
        "outputId": "403e4714-7ce0-473f-f7fa-e46970cd854e"
      },
      "execution_count": null,
      "outputs": [
        {
          "output_type": "stream",
          "name": "stdout",
          "text": [
            "Enter first number: 1\n",
            "Enter second number: 3\n",
            "Your quotient is...  0.3333333333333333\n"
          ]
        }
      ]
    },
    {
      "cell_type": "markdown",
      "source": [
        "# String Exercise\n"
      ],
      "metadata": {
        "id": "7JaKkLE0HUrv"
      }
    },
    {
      "cell_type": "code",
      "execution_count": null,
      "metadata": {
        "id": "KMb0mkdMCZfK"
      },
      "outputs": [],
      "source": [
        "#Write a program that asks the user for their name and prints a greeting, like Hello, NAME!\n",
        "\n",
        "name = input (\"Enter your name: \")\n",
        "print (\"Hello\", name, \"How are you today?\")\n",
        "age = int(input(\"Enter your age please!: \"))\n",
        "print (\"Your age is\", age, name, \"you old bum\")\n",
        "if age > 35:\n",
        "  print (\"wow -- you are old\")\n",
        "else:\n",
        "  print (\"stay young king\")"
      ]
    },
    {
      "cell_type": "markdown",
      "source": [
        "# Boolean Exercise\n"
      ],
      "metadata": {
        "id": "5O99Z3_8HGxB"
      }
    },
    {
      "cell_type": "code",
      "source": [
        "testtest = True\n",
        "while testtest:\n",
        "  try:\n",
        "    name = str(input (\"Enter your name\"))\n",
        "  except ValueError:\n",
        "    testtest = True\n",
        "    print (\"Please enter words only\")\n",
        "  else:\n",
        "    testtest = False"
      ],
      "metadata": {
        "id": "V9-JRPG_HqaD",
        "colab": {
          "base_uri": "https://localhost:8080/"
        },
        "outputId": "ff1c4aa3-6ea2-48e5-9368-153093ddea17"
      },
      "execution_count": null,
      "outputs": [
        {
          "name": "stdout",
          "output_type": "stream",
          "text": [
            "Enter your name3\n"
          ]
        }
      ]
    },
    {
      "cell_type": "code",
      "source": [
        "running = True\n",
        "count = 0\n",
        "while running:\n",
        "  print (\"looping\")\n",
        "  count = count + 1\n",
        "  if count == 3:\n",
        "    running = False\n"
      ],
      "metadata": {
        "colab": {
          "base_uri": "https://localhost:8080/"
        },
        "id": "7uGdqGZdQrUr",
        "outputId": "0de476ca-6c6c-4dd4-8435-c7633612d668"
      },
      "execution_count": null,
      "outputs": [
        {
          "output_type": "stream",
          "name": "stdout",
          "text": [
            "looping\n",
            "looping\n",
            "looping\n"
          ]
        }
      ]
    },
    {
      "cell_type": "markdown",
      "source": [
        "# Arrays and Abstract Data Types\n"
      ],
      "metadata": {
        "id": "tP-EMc6IwtXs"
      }
    },
    {
      "cell_type": "markdown",
      "source": [
        "An array is a fixed-size collection of elements of the same type, accessed by index (e.g., [10, 20, 30]). Useful for storing multiple values.\n",
        "\n"
      ],
      "metadata": {
        "id": "Kcxj_C_-KeB9"
      }
    },
    {
      "cell_type": "code",
      "source": [
        "numbers = [1, 2, 3, 4, 5, 6 ,7 ,8 ,9]\n",
        "for i in numbers:\n",
        "    if i < 6:\n",
        "      print(i)\n"
      ],
      "metadata": {
        "id": "VypxU4kwxCJi",
        "colab": {
          "base_uri": "https://localhost:8080/"
        },
        "outputId": "072c42ff-ae5b-466e-cb38-f2fbf02ad6ef"
      },
      "execution_count": null,
      "outputs": [
        {
          "output_type": "stream",
          "name": "stdout",
          "text": [
            "1\n",
            "2\n",
            "3\n",
            "4\n",
            "5\n"
          ]
        }
      ]
    },
    {
      "cell_type": "markdown",
      "source": [
        "# Lists"
      ],
      "metadata": {
        "id": "wtzfhIHLIW0f"
      }
    },
    {
      "cell_type": "markdown",
      "source": [
        "Lists are dynamic collections (can grow/shrink) that store elements of any type, accessed by index (e.g., [\"apple\", 42, True]). Common in Python and JavaScript.\n",
        "\n"
      ],
      "metadata": {
        "id": "-v9Ro7ueKgmx"
      }
    },
    {
      "cell_type": "code",
      "source": [
        "foods = [\"pizza\", \"sushi\", \"tacos\"]\n",
        "print(\"Your first iteration of your food list is...\", foods)\n",
        "\n",
        "# Add a new food\n",
        "new_food = input(\"Add a food: \")\n",
        "foods.append(new_food)\n",
        "print(\"My list of food:\", foods)\n",
        "\n",
        "# Remove a food with error handling\n",
        "remFood = input(\"Remove a food: \")\n",
        "try:\n",
        "    foods.remove(remFood)  # Attempt to remove the specified food\n",
        "    print(f\"Bye bye {remFood}\", foods)\n",
        "except ValueError:\n",
        "    print(f\"Error: '{remFood}' is not in the list! Current list: {foods}\")"
      ],
      "metadata": {
        "colab": {
          "base_uri": "https://localhost:8080/"
        },
        "id": "z1ZhNLbvIdJu",
        "outputId": "5d4e134a-60d0-437a-bd48-29aaba573808"
      },
      "execution_count": null,
      "outputs": [
        {
          "output_type": "stream",
          "name": "stdout",
          "text": [
            "Your first iteration of your food list is... ['pizza', 'sushi', 'tacos']\n",
            "Add a food: banana\n",
            "My list of food: ['pizza', 'sushi', 'tacos', 'banana']\n",
            "Remove a food: sew\n",
            "Error: 'sew' is not in the list! Current list: ['pizza', 'sushi', 'tacos', 'banana']\n"
          ]
        }
      ]
    },
    {
      "cell_type": "code",
      "source": [
        "#SORTING in Arrays - alphabetical sorting\n",
        "StrMyList = [\"Garry\", \"Bobby\", \"Adam\", \"Niklas the Third\"]\n",
        "StrMyList.sort()\n",
        "print (StrMyList)"
      ],
      "metadata": {
        "id": "2hjy6TWnkIDb"
      },
      "execution_count": null,
      "outputs": []
    },
    {
      "cell_type": "markdown",
      "source": [
        "#Records and Dictionaries"
      ],
      "metadata": {
        "id": "g14K24OQIlP7"
      }
    },
    {
      "cell_type": "markdown",
      "source": [
        "Records (or dictionaries/objects in Python/JavaScript) store data with fields of different types, accessed by keys (e.g., {\"name\": \"Alice\", \"age\": 15, \"is_student\": True}). Think of them as structured data entries.\n",
        "\n"
      ],
      "metadata": {
        "id": "B0b6bzwOKmld"
      }
    },
    {
      "cell_type": "code",
      "source": [
        "student = {\"name\": \"Alice\", \"age\": 15, \"enrolled\": True}\n",
        "print(\"Name:\", student[\"name\"])\n",
        "print(\"Age:\", student[\"age\"])\n",
        "print(\"Enrolled:\", student[\"enrolled\"])"
      ],
      "metadata": {
        "colab": {
          "base_uri": "https://localhost:8080/"
        },
        "id": "mjurULn_Ir6-",
        "outputId": "28548b82-c61a-4c85-93d1-08ad3c2f0a1d"
      },
      "execution_count": null,
      "outputs": [
        {
          "output_type": "stream",
          "name": "stdout",
          "text": [
            "Name: Alice\n",
            "Age: 15\n",
            "Enrolled: True\n"
          ]
        }
      ]
    },
    {
      "cell_type": "code",
      "source": [
        "PriceList = {\"apple\":\"1\", \"banana\":5.5}\n",
        "print(\"Price for is\", PriceList[\"banana\"])\n",
        "while True:\n",
        "  blah = input(\"enter a item\")\n",
        "  try:\n",
        "      print(\"Price for\", blah, \"is\", PriceList[blah])\n",
        "  except KeyError:\n",
        "      print(\"Item not found in PriceList\")"
      ],
      "metadata": {
        "colab": {
          "base_uri": "https://localhost:8080/",
          "height": 474
        },
        "id": "ToOO0HoyoAh2",
        "outputId": "4f820711-a58a-42ff-b0a0-e0f2137d2dfa"
      },
      "execution_count": null,
      "outputs": [
        {
          "output_type": "stream",
          "name": "stdout",
          "text": [
            "Price for is 5.5\n",
            "enter a itema\n",
            "Item not found in PriceList\n",
            "enter a itemapple\n",
            "Price for apple is 1\n"
          ]
        },
        {
          "output_type": "error",
          "ename": "KeyboardInterrupt",
          "evalue": "Interrupted by user",
          "traceback": [
            "\u001b[0;31m---------------------------------------------------------------------------\u001b[0m",
            "\u001b[0;31mKeyboardInterrupt\u001b[0m                         Traceback (most recent call last)",
            "\u001b[0;32m<ipython-input-84-b82bb31b38d5>\u001b[0m in \u001b[0;36m<cell line: 0>\u001b[0;34m()\u001b[0m\n\u001b[1;32m      2\u001b[0m \u001b[0mprint\u001b[0m\u001b[0;34m(\u001b[0m\u001b[0;34m\"Price for is\"\u001b[0m\u001b[0;34m,\u001b[0m \u001b[0mPriceList\u001b[0m\u001b[0;34m[\u001b[0m\u001b[0;34m\"banana\"\u001b[0m\u001b[0;34m]\u001b[0m\u001b[0;34m)\u001b[0m\u001b[0;34m\u001b[0m\u001b[0;34m\u001b[0m\u001b[0m\n\u001b[1;32m      3\u001b[0m \u001b[0;32mwhile\u001b[0m \u001b[0;32mTrue\u001b[0m\u001b[0;34m:\u001b[0m\u001b[0;34m\u001b[0m\u001b[0;34m\u001b[0m\u001b[0m\n\u001b[0;32m----> 4\u001b[0;31m   \u001b[0mblah\u001b[0m \u001b[0;34m=\u001b[0m \u001b[0minput\u001b[0m\u001b[0;34m(\u001b[0m\u001b[0;34m\"enter a item\"\u001b[0m\u001b[0;34m)\u001b[0m\u001b[0;34m\u001b[0m\u001b[0;34m\u001b[0m\u001b[0m\n\u001b[0m\u001b[1;32m      5\u001b[0m   \u001b[0;32mtry\u001b[0m\u001b[0;34m:\u001b[0m\u001b[0;34m\u001b[0m\u001b[0;34m\u001b[0m\u001b[0m\n\u001b[1;32m      6\u001b[0m       \u001b[0mprint\u001b[0m\u001b[0;34m(\u001b[0m\u001b[0;34m\"Price for\"\u001b[0m\u001b[0;34m,\u001b[0m \u001b[0mblah\u001b[0m\u001b[0;34m,\u001b[0m \u001b[0;34m\"is\"\u001b[0m\u001b[0;34m,\u001b[0m \u001b[0mPriceList\u001b[0m\u001b[0;34m[\u001b[0m\u001b[0mblah\u001b[0m\u001b[0;34m]\u001b[0m\u001b[0;34m)\u001b[0m\u001b[0;34m\u001b[0m\u001b[0;34m\u001b[0m\u001b[0m\n",
            "\u001b[0;32m/usr/local/lib/python3.11/dist-packages/ipykernel/kernelbase.py\u001b[0m in \u001b[0;36mraw_input\u001b[0;34m(self, prompt)\u001b[0m\n\u001b[1;32m   1175\u001b[0m                 \u001b[0;34m\"raw_input was called, but this frontend does not support input requests.\"\u001b[0m\u001b[0;34m\u001b[0m\u001b[0;34m\u001b[0m\u001b[0m\n\u001b[1;32m   1176\u001b[0m             )\n\u001b[0;32m-> 1177\u001b[0;31m         return self._input_request(\n\u001b[0m\u001b[1;32m   1178\u001b[0m             \u001b[0mstr\u001b[0m\u001b[0;34m(\u001b[0m\u001b[0mprompt\u001b[0m\u001b[0;34m)\u001b[0m\u001b[0;34m,\u001b[0m\u001b[0;34m\u001b[0m\u001b[0;34m\u001b[0m\u001b[0m\n\u001b[1;32m   1179\u001b[0m             \u001b[0mself\u001b[0m\u001b[0;34m.\u001b[0m\u001b[0m_parent_ident\u001b[0m\u001b[0;34m[\u001b[0m\u001b[0;34m\"shell\"\u001b[0m\u001b[0;34m]\u001b[0m\u001b[0;34m,\u001b[0m\u001b[0;34m\u001b[0m\u001b[0;34m\u001b[0m\u001b[0m\n",
            "\u001b[0;32m/usr/local/lib/python3.11/dist-packages/ipykernel/kernelbase.py\u001b[0m in \u001b[0;36m_input_request\u001b[0;34m(self, prompt, ident, parent, password)\u001b[0m\n\u001b[1;32m   1217\u001b[0m             \u001b[0;32mexcept\u001b[0m \u001b[0mKeyboardInterrupt\u001b[0m\u001b[0;34m:\u001b[0m\u001b[0;34m\u001b[0m\u001b[0;34m\u001b[0m\u001b[0m\n\u001b[1;32m   1218\u001b[0m                 \u001b[0;31m# re-raise KeyboardInterrupt, to truncate traceback\u001b[0m\u001b[0;34m\u001b[0m\u001b[0;34m\u001b[0m\u001b[0m\n\u001b[0;32m-> 1219\u001b[0;31m                 \u001b[0;32mraise\u001b[0m \u001b[0mKeyboardInterrupt\u001b[0m\u001b[0;34m(\u001b[0m\u001b[0;34m\"Interrupted by user\"\u001b[0m\u001b[0;34m)\u001b[0m \u001b[0;32mfrom\u001b[0m \u001b[0;32mNone\u001b[0m\u001b[0;34m\u001b[0m\u001b[0;34m\u001b[0m\u001b[0m\n\u001b[0m\u001b[1;32m   1220\u001b[0m             \u001b[0;32mexcept\u001b[0m \u001b[0mException\u001b[0m\u001b[0;34m:\u001b[0m\u001b[0;34m\u001b[0m\u001b[0;34m\u001b[0m\u001b[0m\n\u001b[1;32m   1221\u001b[0m                 \u001b[0mself\u001b[0m\u001b[0;34m.\u001b[0m\u001b[0mlog\u001b[0m\u001b[0;34m.\u001b[0m\u001b[0mwarning\u001b[0m\u001b[0;34m(\u001b[0m\u001b[0;34m\"Invalid Message:\"\u001b[0m\u001b[0;34m,\u001b[0m \u001b[0mexc_info\u001b[0m\u001b[0;34m=\u001b[0m\u001b[0;32mTrue\u001b[0m\u001b[0;34m)\u001b[0m\u001b[0;34m\u001b[0m\u001b[0;34m\u001b[0m\u001b[0m\n",
            "\u001b[0;31mKeyboardInterrupt\u001b[0m: Interrupted by user"
          ]
        }
      ]
    },
    {
      "cell_type": "markdown",
      "source": [
        "#Guess Who!"
      ],
      "metadata": {
        "id": "fSlvHYyjItRt"
      }
    },
    {
      "cell_type": "code",
      "source": [
        "FacialHair = [\"Bearded\", \"Moustache\", \"No facial hair\"]\n",
        "Hair = [\"red\",\"blonde\",\"black\",\"white\", \"ranga\",\"bald\"]\n",
        "EmotionalStatus = [\"smug\",\"content\", \"withholding\",\"Devious\"]\n",
        "Chin = [\"bum\", \"nobum\"]\n",
        "\n",
        "print (\"Type either A or B to show the physical characteristics\")\n",
        "print (\"A - Max\")\n",
        "print (\"B – Herman \")\n",
        "\n",
        "userChoice = str(input(\"please choose\"))\n",
        "if (userChoice == \"a\"):\n",
        "  print (\"Max looks like…\")\n",
        "  print (FacialHair[1])\n",
        "  print (\"his hair is\", Hair[2])\n",
        "  print (Chin[1])\n",
        "  print (EmotionalStatus[0])"
      ],
      "metadata": {
        "colab": {
          "base_uri": "https://localhost:8080/"
        },
        "id": "30T-D7SmLE0L",
        "outputId": "97fff277-4507-491e-b6aa-bb87fb4fa270"
      },
      "execution_count": null,
      "outputs": [
        {
          "output_type": "stream",
          "name": "stdout",
          "text": [
            "Type either A or B to show the physical characteristics\n",
            "A - Max\n",
            "B – Herman \n",
            "please choosea\n",
            "Max looks like…\n",
            "Moustache\n",
            "his hair is black\n",
            "nobum\n",
            "smug\n"
          ]
        }
      ]
    },
    {
      "cell_type": "code",
      "source": [],
      "metadata": {
        "id": "JNmhpfuoaXpM"
      },
      "execution_count": null,
      "outputs": []
    }
  ]
}